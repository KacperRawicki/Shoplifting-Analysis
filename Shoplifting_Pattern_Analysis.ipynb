{
  "nbformat": 4,
  "nbformat_minor": 0,
  "metadata": {
    "colab": {
      "provenance": []
    },
    "kernelspec": {
      "name": "python3",
      "display_name": "Python 3"
    },
    "language_info": {
      "name": "python"
    }
  },
  "cells": [
    {
      "cell_type": "markdown",
      "source": [
        "# Investigating links between crime and grocery prices\n",
        "#### Crime data from https://data.police.uk/data/archive/ accessed 19/11/2023\n",
        "#### Grocery data from https://www.kaggle.com/datasets/ziedzen/uk-grocery-retailer-sales-and-pricing-analysis accessed 19/11/2023"
      ],
      "metadata": {
        "id": "c2SB4WzwBlv9"
      }
    },
    {
      "cell_type": "markdown",
      "source": [
        "Imports"
      ],
      "metadata": {
        "id": "mddlOQfcCCpc"
      }
    },
    {
      "cell_type": "code",
      "source": [
        "import pandas as pd\n",
        "import os\n",
        "import datetime\n",
        "import calendar\n",
        "from matplotlib import pyplot as plt\n",
        "import seaborn as sns\n",
        "import numpy as np\n",
        "from scipy import stats"
      ],
      "metadata": {
        "id": "kvwMk_JcCBKG"
      },
      "execution_count": null,
      "outputs": []
    },
    {
      "cell_type": "markdown",
      "source": [
        "Loading grocery data"
      ],
      "metadata": {
        "id": "4-wLNEWqCT1l"
      }
    },
    {
      "cell_type": "code",
      "source": [
        "df_prices = pd.read_csv('PriceAdjustments.csv')\n",
        "df_items = pd.read_csv('Items.csv')\n",
        "df_sales = pd.read_csv('SampleSales.csv')"
      ],
      "metadata": {
        "id": "nqyZqlOoCc7R"
      },
      "execution_count": null,
      "outputs": []
    },
    {
      "cell_type": "code",
      "source": [
        "df_prices.head()"
      ],
      "metadata": {
        "id": "XJkhf2-UCgiw"
      },
      "execution_count": null,
      "outputs": []
    },
    {
      "cell_type": "code",
      "source": [
        "df_items.head()"
      ],
      "metadata": {
        "id": "uQUoA6YYCjKS"
      },
      "execution_count": null,
      "outputs": []
    },
    {
      "cell_type": "code",
      "source": [
        "df_sales.head()"
      ],
      "metadata": {
        "id": "7HUtzFhaCjZr"
      },
      "execution_count": null,
      "outputs": []
    },
    {
      "cell_type": "markdown",
      "source": [
        "Loop through each local police file, compile for the appropriate time period."
      ],
      "metadata": {
        "id": "Js8ENClHCnhc"
      }
    },
    {
      "cell_type": "code",
      "source": [
        "cwd = os.getcwd()\n",
        "#make three arrays for three types of crime reports\n",
        "outcomes = []\n",
        "street = []\n",
        "stop = [] #stop and search data\n",
        "year_list = ['2018', '2019']\n",
        "long_ver = False\n",
        "#long_ver = True      #uncomment this for long version*\n",
        "if long_ver == True:\n",
        "    year_list = ['2017', '2018', '2019']\n",
        "#loop through each required date\n",
        "for year in year_list:\n",
        "    for month in ['01','02','03','04','05','05','06'\n",
        "                  ,'07','08','09','10','11','12']:\n",
        "        #conditional break statement to prevent exiting the scope of the data\n",
        "        if (year == '2019') and (month == '04'):\n",
        "            break\n",
        "        #finally get full path for each date\n",
        "        rel = f'2019-07/{year}-{month}/'\n",
        "        path = os.path.join(cwd, rel)\n",
        "        items = os.listdir(path)\n",
        "        #for each date, loop through individual local reports\n",
        "        for item in items:\n",
        "            name = item[:-4]\n",
        "            print(path+item)\n",
        "            #create a new data frame for each indvidiual report\n",
        "            globals()[f'df{name}'] = pd.read_csv(path+item)\n",
        "            #append each of the three categories of report\n",
        "            if name[-1] == 's':\n",
        "                outcomes.append(globals()[f'df{name}'])\n",
        "            elif name[-1] == 't':\n",
        "                street.append(globals()[f'df{name}'])\n",
        "            else:\n",
        "                globals()[f'df{name}']['Month'] = \\\n",
        "                globals()[f'df{name}']['Date'].str.slice(0, 10)\n",
        "                del globals()[f'df{name}']['Date']\n",
        "                stop.append(globals()[f'df{name}'])"
      ],
      "metadata": {
        "id": "80J70TP3FjhI"
      },
      "execution_count": null,
      "outputs": []
    },
    {
      "cell_type": "markdown",
      "source": [
        "\\* long version includes dates outside of the grocery data scope. Useful for focusing on crime analysis only"
      ],
      "metadata": {
        "id": "bI4IUEmCFkrx"
      }
    },
    {
      "cell_type": "code",
      "source": [
        "#end with three arrays of dataframes\n",
        "outcomes[:10]"
      ],
      "metadata": {
        "id": "sDaOdE3vFwn6"
      },
      "execution_count": null,
      "outputs": []
    },
    {
      "cell_type": "code",
      "source": [
        "street[:10]"
      ],
      "metadata": {
        "id": "RnDHF14YFxZW"
      },
      "execution_count": null,
      "outputs": []
    },
    {
      "cell_type": "code",
      "source": [
        "stop[:10]"
      ],
      "metadata": {
        "id": "6IyoLZzVFxTQ"
      },
      "execution_count": null,
      "outputs": []
    },
    {
      "cell_type": "code",
      "source": [
        "df_outcomes = pd.concat(outcomes)\n",
        "df_street = pd.concat(street)\n",
        "df_stop = pd.concat(stop)\n",
        "#change to datetime\n",
        "df_outcomes['Month']= pd.to_datetime(df_outcomes['Month'])\n",
        "df_street['Month']= pd.to_datetime(df_street['Month'])\n",
        "df_stop['Month']= pd.to_datetime(df_stop['Month'])"
      ],
      "metadata": {
        "id": "cKf5HLZPqNcq"
      },
      "execution_count": null,
      "outputs": []
    },
    {
      "cell_type": "code",
      "source": [
        "df_outcomes.dtypes"
      ],
      "metadata": {
        "id": "msweYfa5qVkg"
      },
      "execution_count": null,
      "outputs": []
    },
    {
      "cell_type": "code",
      "source": [
        "df_street.dtypes"
      ],
      "metadata": {
        "id": "OwFbe47kqVii"
      },
      "execution_count": null,
      "outputs": []
    },
    {
      "cell_type": "code",
      "source": [
        "df_stop.dtypes"
      ],
      "metadata": {
        "id": "BSOsXERVqVgR"
      },
      "execution_count": null,
      "outputs": []
    },
    {
      "cell_type": "markdown",
      "source": [
        "Grocery prices are listed per week. Create a function to take year and week number and return the month the week lands in.\n",
        "Note that the first day of each week determines its year and month."
      ],
      "metadata": {
        "id": "cJVk7bHsqZO6"
      }
    },
    {
      "cell_type": "code",
      "source": [
        "def MonthFromWeek(year = None, week = None):\n",
        "    if week not in range(1, 53):\n",
        "        raise Exception('Please enter a week between 1 and 52')\n",
        "    start = 1\n",
        "    first = datetime.datetime(year, 1, 1)\n",
        "    first = first.weekday()\n",
        "    #start week one a few days in advance unless the year starts on a Monday\n",
        "    if first !=0:\n",
        "        start += 7-first\n",
        "    days = 365\n",
        "    #add a day for leap years\n",
        "    leap = int(calendar.isleap(year))\n",
        "    days += leap\n",
        "    #find days into the year the given week commences\n",
        "    week_com = start + (week-1)*7\n",
        "    #month breaks array will have the number of the first day of each month\n",
        "    month_breaks = [1]\n",
        "    for i in range(1, 12):\n",
        "        if i == 2:\n",
        "            count = 28 + leap\n",
        "        elif i in [1, 3, 5, 7, 8, 10, 12]:\n",
        "            count = 31\n",
        "        else:\n",
        "            count = 30\n",
        "        month_breaks.append(month_breaks[i-1]+count)\n",
        "    if week_com == 1:\n",
        "        month_out = 1\n",
        "    elif week_com >= month_breaks[-1]:\n",
        "        month_out = 12\n",
        "    #find the first month break larger than given day and return corresponding month\n",
        "    else:\n",
        "        for i in range(len(month_breaks)):\n",
        "            if week_com < month_breaks[i]:\n",
        "                month_out = i\n",
        "                break\n",
        "    return month_out"
      ],
      "metadata": {
        "id": "hze7LvdoqVbC"
      },
      "execution_count": null,
      "outputs": []
    },
    {
      "cell_type": "code",
      "source": [
        "MonthFromWeek(2018, 33)"
      ],
      "metadata": {
        "id": "GHWq7YCwuCti"
      },
      "execution_count": null,
      "outputs": []
    },
    {
      "cell_type": "markdown",
      "source": [
        "Some metadata"
      ],
      "metadata": {
        "id": "z2CgVBWVuEkd"
      }
    },
    {
      "cell_type": "code",
      "source": [
        "print('df_prices columns\\n',df_prices.columns,'\\n------------------------------------\\n')\n",
        "print('df_items columns\\n',df_items.columns,'\\n------------------------------------\\n')\n",
        "print('df_sales columns\\n',df_sales.columns,'\\n------------------------------------\\n')\n",
        "print('df_outcomes columns\\n',df_outcomes.columns,'\\n------------------------------------\\n')\n",
        "print('df_street columns\\n',df_street.columns,'\\n------------------------------------\\n')\n",
        "print('df_stop columns\\n',df_stop.columns)"
      ],
      "metadata": {
        "id": "MSPb0luauHiL"
      },
      "execution_count": null,
      "outputs": []
    },
    {
      "cell_type": "markdown",
      "source": [
        "Complementary function which calls MonthFromWeek() to create a datetime object."
      ],
      "metadata": {
        "id": "qWZdEoS8vTgC"
      }
    },
    {
      "cell_type": "code",
      "source": [
        "def toDate(year, week):\n",
        "    month = MonthFromWeek(year, week)\n",
        "    text = str(year)+'-'+str(month)\n",
        "    date = pd.to_datetime(text)\n",
        "    return date"
      ],
      "metadata": {
        "id": "xXekcn7YvcpK"
      },
      "execution_count": null,
      "outputs": []
    },
    {
      "cell_type": "code",
      "source": [
        "toDate(2018, 33)"
      ],
      "metadata": {
        "id": "BWnz0dljvkQG"
      },
      "execution_count": null,
      "outputs": []
    },
    {
      "cell_type": "markdown",
      "source": [
        "Applying the toDate function to the prices and sales dataframes."
      ],
      "metadata": {
        "id": "SqVRC-4Jv-af"
      }
    },
    {
      "cell_type": "code",
      "source": [
        "for i in ['prices', 'sales']:\n",
        "    globals()[f'df_{i}']['Month'] =\\\n",
        "    globals()[f'df_{i}'].apply(\n",
        "            lambda x:toDate(x['year'], x['WeekIdentifier'])\n",
        "            , axis = 1)"
      ],
      "metadata": {
        "id": "1PYiZnQ7v-LZ"
      },
      "execution_count": null,
      "outputs": []
    },
    {
      "cell_type": "markdown",
      "source": [
        "Some data exploration"
      ],
      "metadata": {
        "id": "BfA8S8ZJwFMI"
      }
    },
    {
      "cell_type": "code",
      "source": [
        "prices_stats = df_prices.describe()\n",
        "items_stats = df_items.describe()\n",
        "sales_stats = df_sales.describe()\n",
        "outcomes_stats = df_outcomes.describe()\n",
        "street_stats = df_street.describe()\n",
        "stop_stats = df_stop.describe()"
      ],
      "metadata": {
        "id": "FWEx0lFawGn9"
      },
      "execution_count": null,
      "outputs": []
    },
    {
      "cell_type": "markdown",
      "source": [
        "Plot for crime only"
      ],
      "metadata": {
        "id": "OIFFaAG8xuuN"
      }
    },
    {
      "cell_type": "code",
      "source": [
        "#%%   #SL Only\n",
        "#sl_by_month = df_street[df_street['Crime type'] == 'Shoplifting']['Month'].value_counts(sort = False)\n",
        "#sl_max_month = sl_by_month.max()\n",
        "#sl_min_month = sl_by_month.min()\n",
        "#std_sl = (sl_by_month-sl_min_month)/(sl_max_month-sl_min_month)\n",
        "#sns.lineplot(std_sl, label = 'Counts of Shoplifting'),\n",
        "#plt.legend(loc = 'upper right')\n",
        "#%%"
      ],
      "metadata": {
        "id": "1iTxz1I1xuW4"
      },
      "execution_count": null,
      "outputs": []
    },
    {
      "cell_type": "code",
      "source": [
        "sns.lineplot(df_prices.groupby('Month')['BasePrice'].mean())\n",
        "plt.title('Mean Price')\n",
        "plt.show()\n",
        "mean_price = df_prices['BasePrice'].mean()\n",
        "df_street['Crime type'].value_counts()"
      ],
      "metadata": {
        "id": "TtOup06ImNa-"
      },
      "execution_count": null,
      "outputs": []
    },
    {
      "cell_type": "markdown",
      "source": [
        "Scaling function (min-max scaling)"
      ],
      "metadata": {
        "id": "ird25bT5mSzH"
      }
    },
    {
      "cell_type": "code",
      "source": [
        "def minmax_scale(data):\n",
        "    return (data-data.min())/(data.max()-data.min())"
      ],
      "metadata": {
        "id": "Ekun-kHSzDl1"
      },
      "execution_count": null,
      "outputs": []
    },
    {
      "cell_type": "markdown",
      "source": [
        "Generating plots"
      ],
      "metadata": {
        "id": "9UwxGOXgzFsh"
      }
    },
    {
      "cell_type": "code",
      "source": [
        "sl_by_month = df_street[df_street['Crime type'] == 'Shoplifting']['Month'].value_counts(sort = False)\n",
        "std_sl = minmax_scale(sl_by_month)\n",
        "meanprice_by_month = df_prices.groupby('Month')['BasePrice'].mean()\n",
        "std_meanprice = minmax_scale(meanprice_by_month)\n",
        "sns.lineplot(std_sl, label = 'Counts of Shoplifting')\n",
        "sns.lineplot(std_meanprice, label = 'Mean price')\n",
        "plt.title('Standardised Price and Shoplifting')\n",
        "plt.legend()\n",
        "plt.show()"
      ],
      "metadata": {
        "id": "q9b-GCImzILk"
      },
      "execution_count": null,
      "outputs": []
    },
    {
      "cell_type": "code",
      "source": [
        "std_meanprice_lag = pd.Series([np.nan] + std_meanprice.to_list()[:-1], std_meanprice.index.to_list())\n",
        "sns.lineplot(std_sl, label = 'Counts of Shoplifting')\n",
        "sns.lineplot(std_meanprice_lag, label = 'Mean price shifted by 1 Month')\n",
        "plt.title('Standardised Price and Shoplifting (with time lag)')\n",
        "plt.legend()\n",
        "plt.show()"
      ],
      "metadata": {
        "id": "t8uusM9AzIhs"
      },
      "execution_count": null,
      "outputs": []
    },
    {
      "cell_type": "code",
      "source": [
        "sns.lineplot(std_sl[5:], label = 'Count of Shoplifting')\n",
        "sns.lineplot(std_meanprice_lag[5:], label = 'Mean price shifted by 1 Month')\n",
        "plt.title('Standardised Price and Shoplifting (with time lag)')\n",
        "plt.legend(loc = 'upper right', fontsize = 9)\n",
        "plt.show()"
      ],
      "metadata": {
        "id": "wtC7D0dczIfu"
      },
      "execution_count": null,
      "outputs": []
    },
    {
      "cell_type": "code",
      "source": [
        "sns.pointplot(x = [np.round(v, 3) for v in std_sl[5:].to_list()], y = std_meanprice_lag[5:].to_list())\n",
        "plt.xlabel('Count of Shoplifting')\n",
        "plt.ylabel('Mean price shifted by 1 Month')\n",
        "plt.title('Standardised Price against Shoplifting (with time lag)')\n",
        "plt.show()"
      ],
      "metadata": {
        "id": "FuvpzmwdzIc3"
      },
      "execution_count": null,
      "outputs": []
    },
    {
      "cell_type": "code",
      "source": [
        "crime_by_month = df_street.groupby('Month').size()\n",
        "std_crime = minmax_scale(crime_by_month)\n",
        "sns.lineplot(std_meanprice)\n",
        "sns.lineplot(std_crime)"
      ],
      "metadata": {
        "id": "HhyYBAihzIan"
      },
      "execution_count": null,
      "outputs": []
    },
    {
      "cell_type": "markdown",
      "source": [
        "Defining a function to perform a permutation test of spearman rank"
      ],
      "metadata": {
        "id": "PHLq9SXJzUn8"
      }
    },
    {
      "cell_type": "code",
      "source": [
        "x_sl = std_sl.to_list()[5:]\n",
        "x_crime = std_crime.to_list()[5:]\n",
        "y = std_meanprice_lag.to_list()[5:]\n",
        "def statistic(stat):\n",
        "    rs = stats.spearmanr(stat, y).statistic\n",
        "    return rs\n",
        "def inverse_statistic(stat):\n",
        "    rs = stats.spearmanr(stat, x_sl).statistic\n",
        "    return rs"
      ],
      "metadata": {
        "id": "4JMBm_FNzaQj"
      },
      "execution_count": null,
      "outputs": []
    },
    {
      "cell_type": "code",
      "source": [
        "stats.permutation_test((x_sl, ), statistic, alternative = 'greater', permutation_type = 'pairings')"
      ],
      "metadata": {
        "id": "nGhVbhZ_zbdr"
      },
      "execution_count": null,
      "outputs": []
    },
    {
      "cell_type": "markdown",
      "source": [
        "More Comparisons - comparisons against crime overall"
      ],
      "metadata": {
        "id": "O5xyUF-d3Q2E"
      }
    },
    {
      "cell_type": "code",
      "source": [
        "crime_by_month = df_street['Month'].value_counts(sort = False)\n",
        "std_crime = minmax_scale(crime_by_month)\n",
        "sns.lineplot(std_crime, label = 'Counts of Crime')\n",
        "sns.lineplot(std_meanprice, label = 'Mean price')\n",
        "plt.title('Standardised Price and Crime')\n",
        "plt.legend()\n",
        "plt.show()"
      ],
      "metadata": {
        "id": "7KzHKJJP3TMv"
      },
      "execution_count": null,
      "outputs": []
    },
    {
      "cell_type": "code",
      "source": [
        "sns.pointplot(x = [np.round(v, 3) for v in std_crime[5:].to_list()], y = std_meanprice_lag[5:].to_list())\n",
        "plt.xlabel('Count of Crime')\n",
        "plt.ylabel('Mean price shifted by 1 Month')\n",
        "plt.title('Standardised Price against Crime (with time lag)')\n",
        "plt.show()"
      ],
      "metadata": {
        "id": "R-h6KFjZ3TK3"
      },
      "execution_count": null,
      "outputs": []
    },
    {
      "cell_type": "code",
      "source": [
        "stats.permutation_test((x_crime, ), statistic, alternative = 'greater', permutation_type = 'pairings')"
      ],
      "metadata": {
        "id": "h6ds5lZm3TIZ"
      },
      "execution_count": null,
      "outputs": []
    },
    {
      "cell_type": "markdown",
      "source": [
        "Analysis of specific item prices against shoplifting patterns, begin with  apair of functions getCategory and getSubCategory which convert input item ID into the category or subcategory of the item."
      ],
      "metadata": {
        "id": "y3sGdORa3jUH"
      }
    },
    {
      "cell_type": "code",
      "source": [
        "def getCategory(item_id):\n",
        "    return df_items[df_items['ItemID'] == item_id]['Category'].to_list()[0]"
      ],
      "metadata": {
        "id": "vUT01CuB3gyv"
      },
      "execution_count": null,
      "outputs": []
    },
    {
      "cell_type": "code",
      "source": [
        "def getSubCategory(item_id):\n",
        "    return df_items[df_items['ItemID'] == item_id]['SubCategory'].to_list()[0]"
      ],
      "metadata": {
        "id": "tQ4LtLhY3S3p"
      },
      "execution_count": null,
      "outputs": []
    },
    {
      "cell_type": "markdown",
      "source": [
        "Example"
      ],
      "metadata": {
        "id": "Q0Zosx_t4w7Y"
      }
    },
    {
      "cell_type": "code",
      "source": [
        "getCategory('GKuS9uU17')"
      ],
      "metadata": {
        "id": "8JYFaZqs40sR"
      },
      "execution_count": null,
      "outputs": []
    },
    {
      "cell_type": "code",
      "source": [
        "df_prices['Category'] = df_prices['ItemID'].apply(getCategory)\n",
        "df_prices['SubCategory'] = df_prices['ItemID'].apply(getSubCategory)"
      ],
      "metadata": {
        "id": "Ayjz-VkI42_Y"
      },
      "execution_count": null,
      "outputs": []
    },
    {
      "cell_type": "code",
      "execution_count": null,
      "metadata": {
        "colab": {
          "base_uri": "https://localhost:8080/",
          "height": 245
        },
        "id": "6W0ChSGA5bIG",
        "outputId": "4335516e-9b92-415b-9465-ea68f9af5d3e"
      },
      "outputs": [
        {
          "output_type": "error",
          "ename": "FileNotFoundError",
          "evalue": "ignored",
          "traceback": [
            "\u001b[0;31m---------------------------------------------------------------------------\u001b[0m",
            "\u001b[0;31mFileNotFoundError\u001b[0m                         Traceback (most recent call last)",
            "\u001b[0;32m<ipython-input-3-eddeec471404>\u001b[0m in \u001b[0;36m<cell line: 39>\u001b[0;34m()\u001b[0m\n\u001b[1;32m     44\u001b[0m         \u001b[0mrel\u001b[0m \u001b[0;34m=\u001b[0m \u001b[0;34mf'2019-07/{year}-{month}/'\u001b[0m\u001b[0;34m\u001b[0m\u001b[0;34m\u001b[0m\u001b[0m\n\u001b[1;32m     45\u001b[0m         \u001b[0mpath\u001b[0m \u001b[0;34m=\u001b[0m \u001b[0mos\u001b[0m\u001b[0;34m.\u001b[0m\u001b[0mpath\u001b[0m\u001b[0;34m.\u001b[0m\u001b[0mjoin\u001b[0m\u001b[0;34m(\u001b[0m\u001b[0mcwd\u001b[0m\u001b[0;34m,\u001b[0m \u001b[0mrel\u001b[0m\u001b[0;34m)\u001b[0m\u001b[0;34m\u001b[0m\u001b[0;34m\u001b[0m\u001b[0m\n\u001b[0;32m---> 46\u001b[0;31m         \u001b[0mitems\u001b[0m \u001b[0;34m=\u001b[0m \u001b[0mos\u001b[0m\u001b[0;34m.\u001b[0m\u001b[0mlistdir\u001b[0m\u001b[0;34m(\u001b[0m\u001b[0mpath\u001b[0m\u001b[0;34m)\u001b[0m\u001b[0;34m\u001b[0m\u001b[0;34m\u001b[0m\u001b[0m\n\u001b[0m\u001b[1;32m     47\u001b[0m         \u001b[0;32mfor\u001b[0m \u001b[0mitem\u001b[0m \u001b[0;32min\u001b[0m \u001b[0mitems\u001b[0m\u001b[0;34m:\u001b[0m\u001b[0;34m\u001b[0m\u001b[0;34m\u001b[0m\u001b[0m\n\u001b[1;32m     48\u001b[0m             \u001b[0mname\u001b[0m \u001b[0;34m=\u001b[0m \u001b[0mitem\u001b[0m\u001b[0;34m[\u001b[0m\u001b[0;34m:\u001b[0m\u001b[0;34m-\u001b[0m\u001b[0;36m4\u001b[0m\u001b[0;34m]\u001b[0m\u001b[0;34m\u001b[0m\u001b[0;34m\u001b[0m\u001b[0m\n",
            "\u001b[0;31mFileNotFoundError\u001b[0m: [Errno 2] No such file or directory: '/content/2019-07/2018-01/'"
          ]
        }
      ],
      "source": [
        "plots = False\n",
        "#plots = True     #set plots to True to plot each item category and sub category\n",
        "cat_test_dict = {}    #dictionary for perumtation test results for each item category\n",
        "subcat_test_dict = {}   #as above, for each subcategory\n",
        "for cat in df_prices.Category.unique():\n",
        "    cat_test = df_prices[df_prices['Category'] == cat].groupby('Month')['BasePrice'].mean().sort_index()\n",
        "    std_cat_test = minmax_scale(cat_test)\n",
        "    x_cat_test = std_cat_test.to_list()[5:]\n",
        "    if len(x_cat_test) != len(x_sl):  #remove categories of items that are not availible each month\n",
        "        continue\n",
        "    print('Success')\n",
        "    if plots == True:\n",
        "        sns.pointplot(x = [np.round(v, 3) for v in std_sl[5:].to_list()], y = x_cat_test)\n",
        "        plt.xlabel('Count of Shoplifting')\n",
        "        plt.ylabel(cat)\n",
        "        plt.title('Standardised category price and Shoplifting')\n",
        "        plt.show()\n",
        "    cat_perm_test = stats.permutation_test((x_cat_test, ), inverse_statistic,\n",
        "                                            alternative = 'greater', permutation_type = 'pairings')\n",
        "    print(cat_perm_test)\n",
        "    cat_test_dict[cat] = (cat_perm_test.statistic,\n",
        "                          cat_perm_test.pvalue)\n",
        "#repeat for sub-categories\n",
        "for subcat in df_prices.SubCategory.unique():\n",
        "    subcat_test = df_prices[df_prices['Category'] == subcat].groupby('Month')['BasePrice'].mean().sort_index()\n",
        "    std_subcat_test = minmax_scale(subcat_test)\n",
        "    x_subcat_test = std_subcat_test.to_list()[5:]\n",
        "    if len(x_subcat_test) != len(x_sl):\n",
        "        continue\n",
        "    print('Success')\n",
        "    if plots == True:\n",
        "        sns.pointplot(x = [np.round(v, 3) for v in std_sl[5:].to_list()], y = x_subcat_test)\n",
        "        plt.xlabel('Count of Shoplifting')\n",
        "        plt.ylabel(subcat)\n",
        "        plt.title('Standardised subcategory price and Shoplifting')\n",
        "        plt.show()\n",
        "    subcat_perm_test = stats.permutation_test((x_subcat_test, ), inverse_statistic,\n",
        "                                            alternative = 'greater', permutation_type = 'pairings')\n",
        "    print(subcat_perm_test)\n",
        "    subcat_test_dict[subcat] = (subcat_perm_test.statistic,\n",
        "                                subcat_perm_test.pvalue)\n",
        "full_test_dict = {'cat': cat_test_dict, 'subcat': subcat_test_dict}\n",
        "print(cat_test_dict)\n",
        "print(subcat_test_dict)\n",
        "print(full_test_dict)"
      ]
    }
  ]
}